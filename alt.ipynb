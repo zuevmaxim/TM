{
 "cells": [
  {
   "cell_type": "code",
   "execution_count": 8,
   "outputs": [
    {
     "name": "stderr",
     "output_type": "stream",
     "text": [
      "[nltk_data] Downloading package stopwords to /root/nltk_data...\n",
      "[nltk_data]   Package stopwords is already up-to-date!\n",
      "[nltk_data] Downloading package wordnet to /root/nltk_data...\n",
      "[nltk_data]   Package wordnet is already up-to-date!\n",
      "INFO:autotm.base:Stage 0: Create working dir ./autotm_workdir_45c9ac46-20e9-4c51-b47e-bf6989e0569d if not exists\n",
      "INFO:autotm.base:Stage 1: Dataset preparation\n",
      "INFO:autotm.preprocessing.dictionaries_preparation: batches ./autotm_workdir_45c9ac46-20e9-4c51-b47e-bf6989e0569d/78033323-ba5e-4959-88c0-85a55dddee09/batches \n",
      " vocabulary ./autotm_workdir_45c9ac46-20e9-4c51-b47e-bf6989e0569d/78033323-ba5e-4959-88c0-85a55dddee09/test_set_data_voc.txt \n",
      " are ready\n"
     ]
    },
    {
     "name": "stdout",
     "output_type": "stream",
     "text": [
      "Saved to ./autotm_workdir_45c9ac46-20e9-4c51-b47e-bf6989e0569d/78033323-ba5e-4959-88c0-85a55dddee09/ppp.csv\n",
      "Starting...\n",
      "part 1/1\n"
     ]
    },
    {
     "name": "stderr",
     "output_type": "stream",
     "text": [
      "E1029 18:27:01.817061    17 dictionary_operations.cc:381] Error at line 1, file ./autotm_workdir_45c9ac46-20e9-4c51-b47e-bf6989e0569d/78033323-ba5e-4959-88c0-85a55dddee09/test_set_data_voc.txt. Expected format: <token> [<class_id>], dictionary will be gathered in random token order\n"
     ]
    },
    {
     "name": "stdout",
     "output_type": "stream",
     "text": [
      "./autotm_workdir_45c9ac46-20e9-4c51-b47e-bf6989e0569d/78033323-ba5e-4959-88c0-85a55dddee09/cooc_df.txt is ready!\n",
      "./autotm_workdir_45c9ac46-20e9-4c51-b47e-bf6989e0569d/78033323-ba5e-4959-88c0-85a55dddee09/cooc_tf.txt is ready!\n",
      "Calculating pPMI...\n",
      "Calculating pPMI...\n",
      "./autotm_workdir_45c9ac46-20e9-4c51-b47e-bf6989e0569d/78033323-ba5e-4959-88c0-85a55dddee09/ppmi_tf.txt is ready!\n",
      "./autotm_workdir_45c9ac46-20e9-4c51-b47e-bf6989e0569d/78033323-ba5e-4959-88c0-85a55dddee09/ppmi_df.txt is ready!\n"
     ]
    },
    {
     "name": "stderr",
     "output_type": "stream",
     "text": [
      "E1029 18:27:04.433176    17 dictionary_operations.cc:452] Error at line 1, file ./autotm_workdir_45c9ac46-20e9-4c51-b47e-bf6989e0569d/78033323-ba5e-4959-88c0-85a55dddee09/ppmi_tf.txt. Number of values in all lines should be equal to 3, dictionary will be gathered without cooc info\n",
      "INFO:autotm.base:Stage 2: Tuning the topic model\n",
      "2023-10-29 18:27:04,822 - GA_algo - INFO - Starting experiment: 1698604024\n",
      "2023-10-29 18:27:04,823 - GA_algo - INFO - ALGORITHM PARAMS  number of individuals 10; number of fitness evals unlimited; number of early stopping iterations 500; crossover prob None\n",
      "2023-10-29 18:27:04,829 - root - INFO - Calculating fitness...\n"
     ]
    },
    {
     "name": "stdout",
     "output_type": "stream",
     "text": [
      "1 validation error for IndividualDTO\n",
      "fitness_value\n",
      "  Input should be a valid dictionary [type=dict_type, input_value=None, input_type=NoneType]\n",
      "    For further information visit https://errors.pydantic.dev/2.4/v/dict_type\n"
     ]
    },
    {
     "ename": "Exception",
     "evalue": "Some exception",
     "output_type": "error",
     "traceback": [
      "\u001B[0;31m---------------------------------------------------------------------------\u001B[0m",
      "\u001B[0;31mValidationError\u001B[0m                           Traceback (most recent call last)",
      "File \u001B[0;32m/usr/local/lib/python3.8/dist-packages/autotm/fitness/tasks.py:52\u001B[0m, in \u001B[0;36mcalculate_fitness\u001B[0;34m(individual, log_artifact_and_parameters, log_run_stats, alg_args, is_tmp)\u001B[0m\n\u001B[1;32m     51\u001B[0m \u001B[38;5;28;01mtry\u001B[39;00m:\n\u001B[0;32m---> 52\u001B[0m     \u001B[38;5;28;01mreturn\u001B[39;00m \u001B[43mdo_fitness_calculating\u001B[49m\u001B[43m(\u001B[49m\n\u001B[1;32m     53\u001B[0m \u001B[43m        \u001B[49m\u001B[43mindividual\u001B[49m\u001B[43m,\u001B[49m\u001B[43m \u001B[49m\u001B[43mlog_artifact_and_parameters\u001B[49m\u001B[43m,\u001B[49m\u001B[43m \u001B[49m\u001B[43mlog_run_stats\u001B[49m\u001B[43m,\u001B[49m\u001B[43m \u001B[49m\u001B[43malg_args\u001B[49m\u001B[43m,\u001B[49m\u001B[43m \u001B[49m\u001B[43mis_tmp\u001B[49m\n\u001B[1;32m     54\u001B[0m \u001B[43m    \u001B[49m\u001B[43m)\u001B[49m\n\u001B[1;32m     55\u001B[0m \u001B[38;5;28;01mexcept\u001B[39;00m \u001B[38;5;167;01mException\u001B[39;00m \u001B[38;5;28;01mas\u001B[39;00m e:\n",
      "File \u001B[0;32m/usr/local/lib/python3.8/dist-packages/autotm/fitness/tasks.py:19\u001B[0m, in \u001B[0;36mdo_fitness_calculating\u001B[0;34m(individual, log_artifact_and_parameters, log_run_stats, alg_args, is_tmp)\u001B[0m\n\u001B[1;32m     12\u001B[0m \u001B[38;5;28;01mdef\u001B[39;00m \u001B[38;5;21mdo_fitness_calculating\u001B[39m(\n\u001B[1;32m     13\u001B[0m     individual: \u001B[38;5;28mstr\u001B[39m,\n\u001B[1;32m     14\u001B[0m     log_artifact_and_parameters: \u001B[38;5;28mbool\u001B[39m \u001B[38;5;241m=\u001B[39m \u001B[38;5;28;01mFalse\u001B[39;00m,\n\u001B[0;32m   (...)\u001B[0m\n\u001B[1;32m     17\u001B[0m     is_tmp: \u001B[38;5;28mbool\u001B[39m \u001B[38;5;241m=\u001B[39m \u001B[38;5;28;01mFalse\u001B[39;00m,\n\u001B[1;32m     18\u001B[0m ) \u001B[38;5;241m-\u001B[39m\u001B[38;5;241m>\u001B[39m \u001B[38;5;28mstr\u001B[39m:\n\u001B[0;32m---> 19\u001B[0m     individual: IndividualDTO \u001B[38;5;241m=\u001B[39m \u001B[43mIndividualDTO\u001B[49m\u001B[38;5;241;43m.\u001B[39;49m\u001B[43mparse_raw\u001B[49m\u001B[43m(\u001B[49m\u001B[43mindividual\u001B[49m\u001B[43m)\u001B[49m\n\u001B[1;32m     21\u001B[0m     \u001B[38;5;28;01mwith\u001B[39;00m fit_tm_of_individual(\n\u001B[1;32m     22\u001B[0m         dataset\u001B[38;5;241m=\u001B[39mindividual\u001B[38;5;241m.\u001B[39mdataset,\n\u001B[1;32m     23\u001B[0m         data_path\u001B[38;5;241m=\u001B[39mindividual\u001B[38;5;241m.\u001B[39mdata_path,\n\u001B[0;32m   (...)\u001B[0m\n\u001B[1;32m     28\u001B[0m         train_option\u001B[38;5;241m=\u001B[39mindividual\u001B[38;5;241m.\u001B[39mtrain_option,\n\u001B[1;32m     29\u001B[0m     ) \u001B[38;5;28;01mas\u001B[39;00m (time_metrics, metrics, tm):\n",
      "File \u001B[0;32m/usr/local/lib/python3.8/dist-packages/typing_extensions.py:2360\u001B[0m, in \u001B[0;36mdeprecated.<locals>.decorator.<locals>.wrapper\u001B[0;34m(*args, **kwargs)\u001B[0m\n\u001B[1;32m   2359\u001B[0m warnings\u001B[38;5;241m.\u001B[39mwarn(msg, category\u001B[38;5;241m=\u001B[39mcategory, stacklevel\u001B[38;5;241m=\u001B[39mstacklevel \u001B[38;5;241m+\u001B[39m \u001B[38;5;241m1\u001B[39m)\n\u001B[0;32m-> 2360\u001B[0m \u001B[38;5;28;01mreturn\u001B[39;00m \u001B[43marg\u001B[49m\u001B[43m(\u001B[49m\u001B[38;5;241;43m*\u001B[39;49m\u001B[43margs\u001B[49m\u001B[43m,\u001B[49m\u001B[43m \u001B[49m\u001B[38;5;241;43m*\u001B[39;49m\u001B[38;5;241;43m*\u001B[39;49m\u001B[43mkwargs\u001B[49m\u001B[43m)\u001B[49m\n",
      "File \u001B[0;32m/usr/local/lib/python3.8/dist-packages/pydantic/main.py:1063\u001B[0m, in \u001B[0;36mBaseModel.parse_raw\u001B[0;34m(cls, b, content_type, encoding, proto, allow_pickle)\u001B[0m\n\u001B[1;32m   1062\u001B[0m     \u001B[38;5;28;01mraise\u001B[39;00m pydantic_core\u001B[38;5;241m.\u001B[39mValidationError\u001B[38;5;241m.\u001B[39mfrom_exception_data(\u001B[38;5;28mcls\u001B[39m\u001B[38;5;241m.\u001B[39m\u001B[38;5;18m__name__\u001B[39m, [error])\n\u001B[0;32m-> 1063\u001B[0m \u001B[38;5;28;01mreturn\u001B[39;00m \u001B[38;5;28;43mcls\u001B[39;49m\u001B[38;5;241;43m.\u001B[39;49m\u001B[43mmodel_validate\u001B[49m\u001B[43m(\u001B[49m\u001B[43mobj\u001B[49m\u001B[43m)\u001B[49m\n",
      "File \u001B[0;32m/usr/local/lib/python3.8/dist-packages/pydantic/main.py:503\u001B[0m, in \u001B[0;36mBaseModel.model_validate\u001B[0;34m(cls, obj, strict, from_attributes, context)\u001B[0m\n\u001B[1;32m    502\u001B[0m __tracebackhide__ \u001B[38;5;241m=\u001B[39m \u001B[38;5;28;01mTrue\u001B[39;00m\n\u001B[0;32m--> 503\u001B[0m \u001B[38;5;28;01mreturn\u001B[39;00m \u001B[38;5;28;43mcls\u001B[39;49m\u001B[38;5;241;43m.\u001B[39;49m\u001B[43m__pydantic_validator__\u001B[49m\u001B[38;5;241;43m.\u001B[39;49m\u001B[43mvalidate_python\u001B[49m\u001B[43m(\u001B[49m\n\u001B[1;32m    504\u001B[0m \u001B[43m    \u001B[49m\u001B[43mobj\u001B[49m\u001B[43m,\u001B[49m\u001B[43m \u001B[49m\u001B[43mstrict\u001B[49m\u001B[38;5;241;43m=\u001B[39;49m\u001B[43mstrict\u001B[49m\u001B[43m,\u001B[49m\u001B[43m \u001B[49m\u001B[43mfrom_attributes\u001B[49m\u001B[38;5;241;43m=\u001B[39;49m\u001B[43mfrom_attributes\u001B[49m\u001B[43m,\u001B[49m\u001B[43m \u001B[49m\u001B[43mcontext\u001B[49m\u001B[38;5;241;43m=\u001B[39;49m\u001B[43mcontext\u001B[49m\n\u001B[1;32m    505\u001B[0m \u001B[43m\u001B[49m\u001B[43m)\u001B[49m\n",
      "\u001B[0;31mValidationError\u001B[0m: 1 validation error for IndividualDTO\nfitness_value\n  Input should be a valid dictionary [type=dict_type, input_value=None, input_type=NoneType]\n    For further information visit https://errors.pydantic.dev/2.4/v/dict_type",
      "\nDuring handling of the above exception, another exception occurred:\n",
      "\u001B[0;31mException\u001B[0m                                 Traceback (most recent call last)",
      "Cell \u001B[0;32mIn[8], line 40\u001B[0m\n\u001B[1;32m     22\u001B[0m model_path \u001B[38;5;241m=\u001B[39m os\u001B[38;5;241m.\u001B[39mpath\u001B[38;5;241m.\u001B[39mjoin(working_dir_path, \u001B[38;5;124m\"\u001B[39m\u001B[38;5;124mautotm_model\u001B[39m\u001B[38;5;124m\"\u001B[39m)\n\u001B[1;32m     24\u001B[0m autotm \u001B[38;5;241m=\u001B[39m AutoTM(\n\u001B[1;32m     25\u001B[0m     preprocessing_params\u001B[38;5;241m=\u001B[39m{\n\u001B[1;32m     26\u001B[0m         \u001B[38;5;124m\"\u001B[39m\u001B[38;5;124mlang\u001B[39m\u001B[38;5;124m\"\u001B[39m: \u001B[38;5;124m\"\u001B[39m\u001B[38;5;124mru\u001B[39m\u001B[38;5;124m\"\u001B[39m,\n\u001B[0;32m   (...)\u001B[0m\n\u001B[1;32m     38\u001B[0m     working_dir_path\u001B[38;5;241m=\u001B[39mworking_dir_path\n\u001B[1;32m     39\u001B[0m )\n\u001B[0;32m---> 40\u001B[0m mixtures \u001B[38;5;241m=\u001B[39m \u001B[43mautotm\u001B[49m\u001B[38;5;241;43m.\u001B[39;49m\u001B[43mfit_predict\u001B[49m\u001B[43m(\u001B[49m\u001B[43mtrain_df\u001B[49m\u001B[43m)\u001B[49m\n\u001B[1;32m     42\u001B[0m logger\u001B[38;5;241m.\u001B[39minfo(\u001B[38;5;124mf\u001B[39m\u001B[38;5;124m\"\u001B[39m\u001B[38;5;124mCalculated train mixtures: \u001B[39m\u001B[38;5;132;01m{\u001B[39;00mmixtures\u001B[38;5;241m.\u001B[39mshape\u001B[38;5;132;01m}\u001B[39;00m\u001B[38;5;130;01m\\n\u001B[39;00m\u001B[38;5;130;01m\\n\u001B[39;00m\u001B[38;5;132;01m{\u001B[39;00mmixtures\u001B[38;5;241m.\u001B[39mhead(\u001B[38;5;241m10\u001B[39m)\u001B[38;5;241m.\u001B[39mto_string()\u001B[38;5;132;01m}\u001B[39;00m\u001B[38;5;124m\"\u001B[39m)\n\u001B[1;32m     44\u001B[0m \u001B[38;5;66;03m# saving the model\u001B[39;00m\n",
      "File \u001B[0;32m/usr/local/lib/python3.8/dist-packages/autotm/base.py:219\u001B[0m, in \u001B[0;36mAutoTM.fit_predict\u001B[0;34m(self, dataset)\u001B[0m\n\u001B[1;32m    200\u001B[0m \u001B[38;5;250m\u001B[39m\u001B[38;5;124;03m\"\"\"\u001B[39;00m\n\u001B[1;32m    201\u001B[0m \u001B[38;5;124;03mPreprocess texts in the datasets, looks for the best hyperparameters for ARTM model, fits the model\u001B[39;00m\n\u001B[1;32m    202\u001B[0m \u001B[38;5;124;03mwith these parameters and predict topics mixtures for individual documents in the incoming corpus.\u001B[39;00m\n\u001B[0;32m   (...)\u001B[0m\n\u001B[1;32m    215\u001B[0m \u001B[38;5;124;03m    Topic's probabilities are ordered according to topics ordering in 'self.topics' property.\u001B[39;00m\n\u001B[1;32m    216\u001B[0m \u001B[38;5;124;03m\"\"\"\u001B[39;00m\n\u001B[1;32m    217\u001B[0m \u001B[38;5;28mself\u001B[39m\u001B[38;5;241m.\u001B[39m_check_if_already_fitted(fit_is_ok\u001B[38;5;241m=\u001B[39m\u001B[38;5;28;01mFalse\u001B[39;00m)\n\u001B[0;32m--> 219\u001B[0m \u001B[38;5;28;43mself\u001B[39;49m\u001B[38;5;241;43m.\u001B[39;49m\u001B[43mfit\u001B[49m\u001B[43m(\u001B[49m\u001B[43mdataset\u001B[49m\u001B[43m)\u001B[49m\n\u001B[1;32m    220\u001B[0m \u001B[38;5;28;01mreturn\u001B[39;00m \u001B[38;5;28mself\u001B[39m\u001B[38;5;241m.\u001B[39mpredict(dataset)\n",
      "File \u001B[0;32m/usr/local/lib/python3.8/dist-packages/autotm/base.py:151\u001B[0m, in \u001B[0;36mAutoTM.fit\u001B[0;34m(self, dataset)\u001B[0m\n\u001B[1;32m    144\u001B[0m     \u001B[38;5;28;01mraise\u001B[39;00m \u001B[38;5;167;01mValueError\u001B[39;00m(\u001B[38;5;124mf\u001B[39m\u001B[38;5;124m\"\u001B[39m\u001B[38;5;124mAlg \u001B[39m\u001B[38;5;132;01m{\u001B[39;00m\u001B[38;5;28mself\u001B[39m\u001B[38;5;241m.\u001B[39malg_name\u001B[38;5;132;01m}\u001B[39;00m\u001B[38;5;124m is not supported. \u001B[39m\u001B[38;5;124m\"\u001B[39m\n\u001B[1;32m    145\u001B[0m                      \u001B[38;5;124mf\u001B[39m\u001B[38;5;124m\"\u001B[39m\u001B[38;5;124mOnly the following algorithms are supported: \u001B[39m\u001B[38;5;132;01m{\u001B[39;00m\u001B[38;5;28mself\u001B[39m\u001B[38;5;241m.\u001B[39m_SUPPORTED_ALGS\u001B[38;5;132;01m}\u001B[39;00m\u001B[38;5;124m\"\u001B[39m)\n\u001B[1;32m    147\u001B[0m \u001B[38;5;28;01mif\u001B[39;00m \u001B[38;5;28mself\u001B[39m\u001B[38;5;241m.\u001B[39malg_name \u001B[38;5;241m==\u001B[39m \u001B[38;5;124m\"\u001B[39m\u001B[38;5;124mga\u001B[39m\u001B[38;5;124m\"\u001B[39m:\n\u001B[1;32m    148\u001B[0m     \u001B[38;5;66;03m# TODO: add checking of surrogate alg names\u001B[39;00m\n\u001B[1;32m    149\u001B[0m     \u001B[38;5;66;03m# TODO: make mlflow arguments optional\u001B[39;00m\n\u001B[1;32m    150\u001B[0m     \u001B[38;5;66;03m# exp_id and dataset_name will be needed further to store results in mlflow\u001B[39;00m\n\u001B[0;32m--> 151\u001B[0m     best_topic_model \u001B[38;5;241m=\u001B[39m \u001B[43mgenetic_algorithm\u001B[49m\u001B[38;5;241;43m.\u001B[39;49m\u001B[43mrun_algorithm\u001B[49m\u001B[43m(\u001B[49m\n\u001B[1;32m    152\u001B[0m \u001B[43m        \u001B[49m\u001B[43mdata_path\u001B[49m\u001B[38;5;241;43m=\u001B[39;49m\u001B[43mprocessed_dataset_path\u001B[49m\u001B[43m,\u001B[49m\n\u001B[1;32m    153\u001B[0m \u001B[43m        \u001B[49m\u001B[43mdataset\u001B[49m\u001B[38;5;241;43m=\u001B[39;49m\u001B[38;5;28;43mself\u001B[39;49m\u001B[38;5;241;43m.\u001B[39;49m\u001B[43mexp_dataset_name\u001B[49m\u001B[43m \u001B[49m\u001B[38;5;129;43;01mor\u001B[39;49;00m\u001B[43m \u001B[49m\u001B[38;5;124;43m\"\u001B[39;49m\u001B[38;5;124;43m__noname__\u001B[39;49m\u001B[38;5;124;43m\"\u001B[39;49m\u001B[43m,\u001B[49m\n\u001B[1;32m    154\u001B[0m \u001B[43m        \u001B[49m\u001B[43mexp_id\u001B[49m\u001B[38;5;241;43m=\u001B[39;49m\u001B[38;5;28;43mself\u001B[39;49m\u001B[38;5;241;43m.\u001B[39;49m\u001B[43mexp_id\u001B[49m\u001B[43m \u001B[49m\u001B[38;5;129;43;01mor\u001B[39;49;00m\u001B[43m \u001B[49m\u001B[38;5;124;43m\"\u001B[39;49m\u001B[38;5;124;43m0\u001B[39;49m\u001B[38;5;124;43m\"\u001B[39;49m\u001B[43m,\u001B[49m\n\u001B[1;32m    155\u001B[0m \u001B[43m        \u001B[49m\u001B[43mtopic_count\u001B[49m\u001B[38;5;241;43m=\u001B[39;49m\u001B[38;5;28;43mself\u001B[39;49m\u001B[38;5;241;43m.\u001B[39;49m\u001B[43mtopic_count\u001B[49m\u001B[43m,\u001B[49m\n\u001B[1;32m    156\u001B[0m \u001B[43m        \u001B[49m\u001B[43mlog_file\u001B[49m\u001B[38;5;241;43m=\u001B[39;49m\u001B[38;5;28;43mself\u001B[39;49m\u001B[38;5;241;43m.\u001B[39;49m\u001B[43mlog_file_path\u001B[49m\u001B[43m,\u001B[49m\n\u001B[1;32m    157\u001B[0m \u001B[43m        \u001B[49m\u001B[38;5;241;43m*\u001B[39;49m\u001B[38;5;241;43m*\u001B[39;49m\u001B[38;5;28;43mself\u001B[39;49m\u001B[38;5;241;43m.\u001B[39;49m\u001B[43malg_params\u001B[49m\n\u001B[1;32m    158\u001B[0m \u001B[43m    \u001B[49m\u001B[43m)\u001B[49m\n\u001B[1;32m    159\u001B[0m \u001B[38;5;28;01melse\u001B[39;00m:\n\u001B[1;32m    160\u001B[0m     \u001B[38;5;66;03m# TODO: refactor this function\u001B[39;00m\n\u001B[1;32m    161\u001B[0m     best_topic_model \u001B[38;5;241m=\u001B[39m bayes_opt\u001B[38;5;241m.\u001B[39mrun_algorithm(\n\u001B[1;32m    162\u001B[0m         dataset\u001B[38;5;241m=\u001B[39mprocessed_dataset_path,\n\u001B[1;32m    163\u001B[0m         log_file\u001B[38;5;241m=\u001B[39m\u001B[38;5;28mself\u001B[39m\u001B[38;5;241m.\u001B[39mlog_file_path,\n\u001B[1;32m    164\u001B[0m         exp_id\u001B[38;5;241m=\u001B[39m\u001B[38;5;28mself\u001B[39m\u001B[38;5;241m.\u001B[39mexp_id \u001B[38;5;129;01mor\u001B[39;00m \u001B[38;5;124m\"\u001B[39m\u001B[38;5;124m0\u001B[39m\u001B[38;5;124m\"\u001B[39m,\n\u001B[1;32m    165\u001B[0m         \u001B[38;5;241m*\u001B[39m\u001B[38;5;241m*\u001B[39m\u001B[38;5;28mself\u001B[39m\u001B[38;5;241m.\u001B[39malg_params\n\u001B[1;32m    166\u001B[0m     )\n",
      "File \u001B[0;32m/usr/local/lib/python3.8/dist-packages/autotm/algorithms_for_tuning/genetic_algorithm/genetic_algorithm.py:121\u001B[0m, in \u001B[0;36mrun_algorithm\u001B[0;34m(dataset, data_path, exp_id, topic_count, num_individuals, num_iterations, num_fitness_evaluations, mutation_type, crossover_type, selection_type, elem_cross_prob, cross_alpha, best_proc, log_file, tag, surrogate_name, gpr_kernel, gpr_alpha, gpr_normalize_y, use_nelder_mead_in_mutation, use_nelder_mead_in_crossover, use_nelder_mead_in_selector, train_option)\u001B[0m\n\u001B[1;32m     95\u001B[0m     cross_alpha \u001B[38;5;241m=\u001B[39m \u001B[38;5;28mfloat\u001B[39m(cross_alpha)\n\u001B[1;32m     97\u001B[0m g \u001B[38;5;241m=\u001B[39m GA(\n\u001B[1;32m     98\u001B[0m     dataset\u001B[38;5;241m=\u001B[39mdataset,\n\u001B[1;32m     99\u001B[0m     data_path\u001B[38;5;241m=\u001B[39mdata_path,\n\u001B[0;32m   (...)\u001B[0m\n\u001B[1;32m    119\u001B[0m     train_option\u001B[38;5;241m=\u001B[39mtrain_option,\n\u001B[1;32m    120\u001B[0m )\n\u001B[0;32m--> 121\u001B[0m best_individual \u001B[38;5;241m=\u001B[39m \u001B[43mg\u001B[49m\u001B[38;5;241;43m.\u001B[39;49m\u001B[43mrun\u001B[49m\u001B[43m(\u001B[49m\u001B[43mverbose\u001B[49m\u001B[38;5;241;43m=\u001B[39;49m\u001B[38;5;28;43;01mTrue\u001B[39;49;00m\u001B[43m)\u001B[49m\n\u001B[1;32m    122\u001B[0m logger\u001B[38;5;241m.\u001B[39minfo(\u001B[38;5;124mf\u001B[39m\u001B[38;5;124m\"\u001B[39m\u001B[38;5;124mBest individual fitness_value: \u001B[39m\u001B[38;5;132;01m{\u001B[39;00mbest_individual\u001B[38;5;241m.\u001B[39mfitness_value\u001B[38;5;250m \u001B[39m\u001B[38;5;241m*\u001B[39m\u001B[38;5;250m \u001B[39m(\u001B[38;5;241m-\u001B[39m\u001B[38;5;241m1\u001B[39m)\u001B[38;5;132;01m}\u001B[39;00m\u001B[38;5;124m\"\u001B[39m)\n\u001B[1;32m    124\u001B[0m best_topic_model \u001B[38;5;241m=\u001B[39m fit_tm(\n\u001B[1;32m    125\u001B[0m     preproc_data_path\u001B[38;5;241m=\u001B[39mdata_path,\n\u001B[1;32m    126\u001B[0m     topic_count\u001B[38;5;241m=\u001B[39mtopic_count,\n\u001B[1;32m    127\u001B[0m     params\u001B[38;5;241m=\u001B[39mbest_individual\u001B[38;5;241m.\u001B[39mparams,\n\u001B[1;32m    128\u001B[0m     train_option\u001B[38;5;241m=\u001B[39mtrain_option\n\u001B[1;32m    129\u001B[0m )\n",
      "File \u001B[0;32m/usr/local/lib/python3.8/dist-packages/autotm/algorithms_for_tuning/genetic_algorithm/ga.py:722\u001B[0m, in \u001B[0;36mGA.run\u001B[0;34m(self, verbose, visualize_results)\u001B[0m\n\u001B[1;32m    712\u001B[0m logger\u001B[38;5;241m.\u001B[39minfo(\n\u001B[1;32m    713\u001B[0m     \u001B[38;5;124mf\u001B[39m\u001B[38;5;124m\"\u001B[39m\u001B[38;5;124mALGORITHM PARAMS  number of individuals \u001B[39m\u001B[38;5;132;01m{\u001B[39;00m\u001B[38;5;28mself\u001B[39m\u001B[38;5;241m.\u001B[39mnum_individuals\u001B[38;5;132;01m}\u001B[39;00m\u001B[38;5;124m; \u001B[39m\u001B[38;5;124m\"\u001B[39m\n\u001B[1;32m    714\u001B[0m     \u001B[38;5;124mf\u001B[39m\u001B[38;5;124m\"\u001B[39m\u001B[38;5;124mnumber of fitness evals \u001B[39m\u001B[38;5;124m\"\u001B[39m\n\u001B[0;32m   (...)\u001B[0m\n\u001B[1;32m    718\u001B[0m     \u001B[38;5;124mf\u001B[39m\u001B[38;5;124m\"\u001B[39m\u001B[38;5;124mcrossover prob \u001B[39m\u001B[38;5;132;01m{\u001B[39;00m\u001B[38;5;28mself\u001B[39m\u001B[38;5;241m.\u001B[39melem_cross_prob\u001B[38;5;132;01m}\u001B[39;00m\u001B[38;5;124m\"\u001B[39m\n\u001B[1;32m    719\u001B[0m )\n\u001B[1;32m    721\u001B[0m \u001B[38;5;66;03m# population initialization\u001B[39;00m\n\u001B[0;32m--> 722\u001B[0m population \u001B[38;5;241m=\u001B[39m \u001B[38;5;28;43mself\u001B[39;49m\u001B[38;5;241;43m.\u001B[39;49m\u001B[43minit_population\u001B[49m\u001B[43m(\u001B[49m\u001B[43m)\u001B[49m\n\u001B[1;32m    724\u001B[0m \u001B[38;5;28mself\u001B[39m\u001B[38;5;241m.\u001B[39mevaluations_counter \u001B[38;5;241m=\u001B[39m \u001B[38;5;28mself\u001B[39m\u001B[38;5;241m.\u001B[39mnum_individuals\n\u001B[1;32m    726\u001B[0m logger\u001B[38;5;241m.\u001B[39minfo(\u001B[38;5;124m\"\u001B[39m\u001B[38;5;124mPOPULATION IS CREATED\u001B[39m\u001B[38;5;124m\"\u001B[39m)\n",
      "File \u001B[0;32m/usr/local/lib/python3.8/dist-packages/autotm/algorithms_for_tuning/genetic_algorithm/ga.py:389\u001B[0m, in \u001B[0;36mGA.init_population\u001B[0;34m(self)\u001B[0m\n\u001B[1;32m    387\u001B[0m     \u001B[38;5;66;03m# TODO: improve heuristic on search space\u001B[39;00m\n\u001B[1;32m    388\u001B[0m     list_of_individuals\u001B[38;5;241m.\u001B[39mappend(make_individual(dto\u001B[38;5;241m=\u001B[39mdto))\n\u001B[0;32m--> 389\u001B[0m population_with_fitness \u001B[38;5;241m=\u001B[39m \u001B[43mestimate_fitness\u001B[49m\u001B[43m(\u001B[49m\u001B[43mlist_of_individuals\u001B[49m\u001B[43m)\u001B[49m\n\u001B[1;32m    391\u001B[0m \u001B[38;5;28mself\u001B[39m\u001B[38;5;241m.\u001B[39msave_params(population_with_fitness)\n\u001B[1;32m    392\u001B[0m \u001B[38;5;28;01mif\u001B[39;00m \u001B[38;5;28mself\u001B[39m\u001B[38;5;241m.\u001B[39msurrogate \u001B[38;5;129;01mis\u001B[39;00m \u001B[38;5;129;01mnot\u001B[39;00m \u001B[38;5;28;01mNone\u001B[39;00m \u001B[38;5;129;01mand\u001B[39;00m \u001B[38;5;28mself\u001B[39m\u001B[38;5;241m.\u001B[39mcalc_scheme \u001B[38;5;241m==\u001B[39m \u001B[38;5;124m\"\u001B[39m\u001B[38;5;124mtype2\u001B[39m\u001B[38;5;124m\"\u001B[39m:\n",
      "File \u001B[0;32m/usr/local/lib/python3.8/dist-packages/autotm/fitness/tasks.py:65\u001B[0m, in \u001B[0;36mestimate_fitness\u001B[0;34m(population)\u001B[0m\n\u001B[1;32m     63\u001B[0m \u001B[38;5;28;01mfor\u001B[39;00m individual \u001B[38;5;129;01min\u001B[39;00m population:\n\u001B[1;32m     64\u001B[0m     json_individ \u001B[38;5;241m=\u001B[39m fitness_to_json(individual\u001B[38;5;241m.\u001B[39mdto)\n\u001B[0;32m---> 65\u001B[0m     individ_with_fitness \u001B[38;5;241m=\u001B[39m \u001B[43mcalculate_fitness\u001B[49m\u001B[43m(\u001B[49m\u001B[43mjson_individ\u001B[49m\u001B[43m)\u001B[49m\n\u001B[1;32m     66\u001B[0m     population_with_fitness\u001B[38;5;241m.\u001B[39mappend(\n\u001B[1;32m     67\u001B[0m         make_individual(fitness_from_json(individ_with_fitness))\n\u001B[1;32m     68\u001B[0m     )\n\u001B[1;32m     69\u001B[0m logger\u001B[38;5;241m.\u001B[39minfo(\u001B[38;5;124m\"\u001B[39m\u001B[38;5;124mThe fitness results have been obtained\u001B[39m\u001B[38;5;124m\"\u001B[39m)\n",
      "File \u001B[0;32m/usr/local/lib/python3.8/dist-packages/autotm/fitness/tasks.py:57\u001B[0m, in \u001B[0;36mcalculate_fitness\u001B[0;34m(individual, log_artifact_and_parameters, log_run_stats, alg_args, is_tmp)\u001B[0m\n\u001B[1;32m     55\u001B[0m \u001B[38;5;28;01mexcept\u001B[39;00m \u001B[38;5;167;01mException\u001B[39;00m \u001B[38;5;28;01mas\u001B[39;00m e:\n\u001B[1;32m     56\u001B[0m     \u001B[38;5;28mprint\u001B[39m(\u001B[38;5;28mstr\u001B[39m(e))\n\u001B[0;32m---> 57\u001B[0m     \u001B[38;5;28;01mraise\u001B[39;00m \u001B[38;5;167;01mException\u001B[39;00m(\u001B[38;5;124m\"\u001B[39m\u001B[38;5;124mSome exception\u001B[39m\u001B[38;5;124m\"\u001B[39m)\n",
      "\u001B[0;31mException\u001B[0m: Some exception"
     ]
    }
   ],
   "source": [
    "import logging\n",
    "import os\n",
    "import uuid\n",
    "\n",
    "import pandas as pd\n",
    "from sklearn.model_selection import train_test_split\n",
    "\n",
    "from autotm.base import AutoTM\n",
    "\n",
    "\n",
    "logging.basicConfig(level=logging.INFO)\n",
    "logger = logging.getLogger()\n",
    "\n",
    "\n",
    "path_to_dataset = \"data/lenta/sample_dataset_lenta.csv\"\n",
    "alg_name = \"ga\"\n",
    "\n",
    "df = pd.read_csv(path_to_dataset)\n",
    "train_df, test_df = train_test_split(df, test_size=0.1)\n",
    "\n",
    "working_dir_path = f\"./autotm_workdir_{uuid.uuid4()}\"\n",
    "model_path = os.path.join(working_dir_path, \"autotm_model\")\n",
    "\n",
    "autotm = AutoTM(\n",
    "    preprocessing_params={\n",
    "        \"lang\": \"ru\",\n",
    "        \"min_tokens_count\": 3\n",
    "    },\n",
    "    alg_name=alg_name,\n",
    "    alg_params={\n",
    "        \"num_iterations\": 10,\n",
    "        \"num_individuals\": 10,\n",
    "        \"use_nelder_mead_in_mutation\": False,\n",
    "        \"use_nelder_mead_in_crossover\": False,\n",
    "        \"use_nelder_mead_in_selector\": False,\n",
    "        \"train_option\": \"offline\"\n",
    "    },\n",
    "    working_dir_path=working_dir_path\n",
    ")\n",
    "mixtures = autotm.fit_predict(train_df)\n",
    "\n",
    "logger.info(f\"Calculated train mixtures: {mixtures.shape}\\n\\n{mixtures.head(10).to_string()}\")\n",
    "\n",
    "# saving the model\n",
    "autotm.save(model_path)\n",
    "\n",
    "# loading and checking if everything is fine with predicting\n",
    "autotm_loaded = AutoTM.load(model_path)\n",
    "mixtures = autotm_loaded.predict(test_df)\n",
    "\n",
    "logger.info(f\"Calculated train mixtures: {mixtures.shape}\\n\\n{mixtures.head(10).to_string()}\")\n"
   ],
   "metadata": {
    "collapsed": false,
    "ExecuteTime": {
     "end_time": "2023-10-29T18:27:05.314791Z",
     "start_time": "2023-10-29T18:26:58.524094Z"
    }
   },
   "id": "8d531154abea2bc"
  },
  {
   "cell_type": "code",
   "execution_count": 7,
   "outputs": [
    {
     "name": "stdout",
     "output_type": "stream",
     "text": [
      "Requirement already satisfied: en-core-web-sm==3.7.0 in /usr/local/lib/python3.8/dist-packages (3.7.0)\r\n",
      "Requirement already satisfied: spacy<3.8.0,>=3.7.0 in /usr/local/lib/python3.8/dist-packages (from en-core-web-sm==3.7.0) (3.7.2)\r\n",
      "Requirement already satisfied: langcodes<4.0.0,>=3.2.0 in /usr/local/lib/python3.8/dist-packages (from spacy<3.8.0,>=3.7.0->en-core-web-sm==3.7.0) (3.3.0)\r\n",
      "Requirement already satisfied: requests<3.0.0,>=2.13.0 in /usr/local/lib/python3.8/dist-packages (from spacy<3.8.0,>=3.7.0->en-core-web-sm==3.7.0) (2.31.0)\r\n",
      "Requirement already satisfied: setuptools in /usr/lib/python3/dist-packages (from spacy<3.8.0,>=3.7.0->en-core-web-sm==3.7.0) (45.2.0)\r\n",
      "Requirement already satisfied: srsly<3.0.0,>=2.4.3 in /usr/local/lib/python3.8/dist-packages (from spacy<3.8.0,>=3.7.0->en-core-web-sm==3.7.0) (2.4.8)\r\n",
      "Requirement already satisfied: murmurhash<1.1.0,>=0.28.0 in /usr/local/lib/python3.8/dist-packages (from spacy<3.8.0,>=3.7.0->en-core-web-sm==3.7.0) (1.0.10)\r\n",
      "Requirement already satisfied: weasel<0.4.0,>=0.1.0 in /usr/local/lib/python3.8/dist-packages (from spacy<3.8.0,>=3.7.0->en-core-web-sm==3.7.0) (0.3.3)\r\n",
      "Requirement already satisfied: pydantic!=1.8,!=1.8.1,<3.0.0,>=1.7.4 in /usr/local/lib/python3.8/dist-packages (from spacy<3.8.0,>=3.7.0->en-core-web-sm==3.7.0) (2.4.2)\r\n",
      "Requirement already satisfied: typer<0.10.0,>=0.3.0 in /usr/local/lib/python3.8/dist-packages (from spacy<3.8.0,>=3.7.0->en-core-web-sm==3.7.0) (0.9.0)\r\n",
      "Requirement already satisfied: spacy-legacy<3.1.0,>=3.0.11 in /usr/local/lib/python3.8/dist-packages (from spacy<3.8.0,>=3.7.0->en-core-web-sm==3.7.0) (3.0.12)\r\n",
      "Requirement already satisfied: cymem<2.1.0,>=2.0.2 in /usr/local/lib/python3.8/dist-packages (from spacy<3.8.0,>=3.7.0->en-core-web-sm==3.7.0) (2.0.8)\r\n",
      "Requirement already satisfied: thinc<8.3.0,>=8.1.8 in /usr/local/lib/python3.8/dist-packages (from spacy<3.8.0,>=3.7.0->en-core-web-sm==3.7.0) (8.2.1)\r\n",
      "Requirement already satisfied: smart-open<7.0.0,>=5.2.1 in /usr/local/lib/python3.8/dist-packages (from spacy<3.8.0,>=3.7.0->en-core-web-sm==3.7.0) (6.4.0)\r\n",
      "Requirement already satisfied: wasabi<1.2.0,>=0.9.1 in /usr/local/lib/python3.8/dist-packages (from spacy<3.8.0,>=3.7.0->en-core-web-sm==3.7.0) (1.1.2)\r\n",
      "Requirement already satisfied: spacy-loggers<2.0.0,>=1.0.0 in /usr/local/lib/python3.8/dist-packages (from spacy<3.8.0,>=3.7.0->en-core-web-sm==3.7.0) (1.0.5)\r\n",
      "Requirement already satisfied: catalogue<2.1.0,>=2.0.6 in /usr/local/lib/python3.8/dist-packages (from spacy<3.8.0,>=3.7.0->en-core-web-sm==3.7.0) (2.0.10)\r\n",
      "Requirement already satisfied: preshed<3.1.0,>=3.0.2 in /usr/local/lib/python3.8/dist-packages (from spacy<3.8.0,>=3.7.0->en-core-web-sm==3.7.0) (3.0.9)\r\n",
      "Requirement already satisfied: numpy>=1.15.0; python_version < \"3.9\" in /usr/local/lib/python3.8/dist-packages (from spacy<3.8.0,>=3.7.0->en-core-web-sm==3.7.0) (1.24.4)\r\n",
      "Requirement already satisfied: tqdm<5.0.0,>=4.38.0 in /usr/local/lib/python3.8/dist-packages (from spacy<3.8.0,>=3.7.0->en-core-web-sm==3.7.0) (4.66.1)\r\n",
      "Requirement already satisfied: jinja2 in /usr/local/lib/python3.8/dist-packages (from spacy<3.8.0,>=3.7.0->en-core-web-sm==3.7.0) (3.1.2)\r\n",
      "Requirement already satisfied: packaging>=20.0 in /usr/local/lib/python3.8/dist-packages (from spacy<3.8.0,>=3.7.0->en-core-web-sm==3.7.0) (23.2)\r\n",
      "Requirement already satisfied: urllib3<3,>=1.21.1 in /usr/local/lib/python3.8/dist-packages (from requests<3.0.0,>=2.13.0->spacy<3.8.0,>=3.7.0->en-core-web-sm==3.7.0) (2.0.7)\r\n",
      "Requirement already satisfied: idna<4,>=2.5 in /usr/local/lib/python3.8/dist-packages (from requests<3.0.0,>=2.13.0->spacy<3.8.0,>=3.7.0->en-core-web-sm==3.7.0) (3.4)\r\n",
      "Requirement already satisfied: charset-normalizer<4,>=2 in /usr/local/lib/python3.8/dist-packages (from requests<3.0.0,>=2.13.0->spacy<3.8.0,>=3.7.0->en-core-web-sm==3.7.0) (3.3.1)\r\n",
      "Requirement already satisfied: certifi>=2017.4.17 in /usr/local/lib/python3.8/dist-packages (from requests<3.0.0,>=2.13.0->spacy<3.8.0,>=3.7.0->en-core-web-sm==3.7.0) (2023.7.22)\r\n",
      "Requirement already satisfied: confection<0.2.0,>=0.0.4 in /usr/local/lib/python3.8/dist-packages (from weasel<0.4.0,>=0.1.0->spacy<3.8.0,>=3.7.0->en-core-web-sm==3.7.0) (0.1.3)\r\n",
      "Requirement already satisfied: cloudpathlib<0.17.0,>=0.7.0 in /usr/local/lib/python3.8/dist-packages (from weasel<0.4.0,>=0.1.0->spacy<3.8.0,>=3.7.0->en-core-web-sm==3.7.0) (0.16.0)\r\n",
      "Requirement already satisfied: pydantic-core==2.10.1 in /usr/local/lib/python3.8/dist-packages (from pydantic!=1.8,!=1.8.1,<3.0.0,>=1.7.4->spacy<3.8.0,>=3.7.0->en-core-web-sm==3.7.0) (2.10.1)\r\n",
      "Requirement already satisfied: annotated-types>=0.4.0 in /usr/local/lib/python3.8/dist-packages (from pydantic!=1.8,!=1.8.1,<3.0.0,>=1.7.4->spacy<3.8.0,>=3.7.0->en-core-web-sm==3.7.0) (0.6.0)\r\n",
      "Requirement already satisfied: typing-extensions>=4.6.1 in /usr/local/lib/python3.8/dist-packages (from pydantic!=1.8,!=1.8.1,<3.0.0,>=1.7.4->spacy<3.8.0,>=3.7.0->en-core-web-sm==3.7.0) (4.8.0)\r\n",
      "Requirement already satisfied: click<9.0.0,>=7.1.1 in /usr/local/lib/python3.8/dist-packages (from typer<0.10.0,>=0.3.0->spacy<3.8.0,>=3.7.0->en-core-web-sm==3.7.0) (8.1.7)\r\n",
      "Requirement already satisfied: blis<0.8.0,>=0.7.8 in /usr/local/lib/python3.8/dist-packages (from thinc<8.3.0,>=8.1.8->spacy<3.8.0,>=3.7.0->en-core-web-sm==3.7.0) (0.7.11)\r\n",
      "Requirement already satisfied: MarkupSafe>=2.0 in /usr/local/lib/python3.8/dist-packages (from jinja2->spacy<3.8.0,>=3.7.0->en-core-web-sm==3.7.0) (2.1.3)\r\n"
     ]
    }
   ],
   "source": [
    "!pip3 install en-core-web-sm==3.7.0"
   ],
   "metadata": {
    "collapsed": false,
    "ExecuteTime": {
     "end_time": "2023-10-29T18:26:31.254214Z",
     "start_time": "2023-10-29T18:26:28.558186Z"
    }
   },
   "id": "1c03129be963fbc"
  },
  {
   "cell_type": "code",
   "execution_count": null,
   "outputs": [],
   "source": [],
   "metadata": {
    "collapsed": false
   },
   "id": "9f56ef4a1474c302"
  }
 ],
 "metadata": {
  "kernelspec": {
   "display_name": "Python 3",
   "language": "python",
   "name": "python3"
  },
  "language_info": {
   "codemirror_mode": {
    "name": "ipython",
    "version": 2
   },
   "file_extension": ".py",
   "mimetype": "text/x-python",
   "name": "python",
   "nbconvert_exporter": "python",
   "pygments_lexer": "ipython2",
   "version": "2.7.6"
  }
 },
 "nbformat": 4,
 "nbformat_minor": 5
}
