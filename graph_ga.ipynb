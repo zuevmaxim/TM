{
 "cells": [
  {
   "cell_type": "code",
   "execution_count": 5,
   "outputs": [],
   "source": [
    "from typing import List\n",
    "\n",
    "import numpy as np"
   ],
   "metadata": {
    "collapsed": false,
    "ExecuteTime": {
     "end_time": "2023-11-18T16:29:06.064143Z",
     "start_time": "2023-11-18T16:29:06.055369Z"
    }
   },
   "id": "df10e714490bf13c"
  },
  {
   "cell_type": "code",
   "execution_count": 2,
   "outputs": [],
   "source": [
    "class Param:\n",
    "    def __init__(self, name: str, distribution):\n",
    "        self.name = name\n",
    "        self.distribution = distribution\n",
    "\n",
    "    def create_value(self):\n",
    "        return self.distribution()"
   ],
   "metadata": {
    "collapsed": false,
    "ExecuteTime": {
     "end_time": "2023-11-18T16:20:59.354128Z",
     "start_time": "2023-11-18T16:20:59.345161Z"
    }
   },
   "id": "initial_id"
  },
  {
   "cell_type": "code",
   "execution_count": 4,
   "outputs": [
    {
     "data": {
      "text/plain": "0.2295171895586531"
     },
     "execution_count": 4,
     "metadata": {},
     "output_type": "execute_result"
    }
   ],
   "source": [
    "param = Param(\"alpha\", lambda: np.random.normal(0, 1))\n",
    "param.create_value()"
   ],
   "metadata": {
    "collapsed": false,
    "ExecuteTime": {
     "end_time": "2023-11-18T16:21:26.369719Z",
     "start_time": "2023-11-18T16:21:26.363997Z"
    }
   },
   "id": "132a9edae4ee30bf"
  },
  {
   "cell_type": "code",
   "execution_count": 7,
   "outputs": [],
   "source": [
    "class Stage:\n",
    "    def __init__(self, name: str, params: List):\n",
    "        self.name = name\n",
    "        self.params = params\n",
    "\n",
    "\n",
    "class Pipline:\n",
    "    def __init__(self, stages: List[Stage]):\n",
    "        self.stages = stages"
   ],
   "metadata": {
    "collapsed": false,
    "ExecuteTime": {
     "end_time": "2023-11-18T16:32:12.479927Z",
     "start_time": "2023-11-18T16:32:12.451370Z"
    }
   },
   "id": "f081402eb63c2508"
  },
  {
   "cell_type": "code",
   "execution_count": 6,
   "outputs": [],
   "source": [
    "from abc import ABC, abstractmethod\n",
    "\n",
    "\n",
    "class StageType(ABC):\n",
    "    @property\n",
    "    @abstractmethod\n",
    "    def name(self) -> str:\n",
    "        pass\n",
    "\n",
    "    @property\n",
    "    @abstractmethod\n",
    "    def params(self) -> List[Param]:\n",
    "        pass\n",
    "\n",
    "    def get_stage(self) -> Stage:\n",
    "        return Stage(self.name, [param.create_value() for param in self.params])"
   ],
   "metadata": {
    "collapsed": false,
    "ExecuteTime": {
     "end_time": "2023-11-18T16:31:59.649803Z",
     "start_time": "2023-11-18T16:31:59.632584Z"
    }
   },
   "id": "15c13dbd2ae34f08"
  },
  {
   "cell_type": "code",
   "execution_count": 6,
   "outputs": [],
   "source": [],
   "metadata": {
    "collapsed": false,
    "ExecuteTime": {
     "end_time": "2023-11-18T16:31:59.872357Z",
     "start_time": "2023-11-18T16:31:59.855133Z"
    }
   },
   "id": "8cc1f8e53c4bdcf1"
  },
  {
   "cell_type": "code",
   "execution_count": 6,
   "outputs": [],
   "source": [],
   "metadata": {
    "collapsed": false,
    "ExecuteTime": {
     "end_time": "2023-11-18T16:32:00.090062Z",
     "start_time": "2023-11-18T16:32:00.080175Z"
    }
   },
   "id": "d6753348e659b59a"
  },
  {
   "cell_type": "code",
   "execution_count": 6,
   "outputs": [],
   "source": [],
   "metadata": {
    "collapsed": false,
    "ExecuteTime": {
     "end_time": "2023-11-18T16:32:00.662874Z",
     "start_time": "2023-11-18T16:32:00.652971Z"
    }
   },
   "id": "bd8d3dac46654390"
  },
  {
   "cell_type": "code",
   "execution_count": null,
   "outputs": [],
   "source": [
    "size_param = Param(\"size\", lambda: np.random.randint(1, 5))\n",
    "\n",
    "\n",
    "class ColorStage(StageType):\n",
    "    def __init__(self, color: str):\n",
    "        self.color = color\n",
    "\n",
    "    @property\n",
    "    def name(self) -> str:\n",
    "        return self.color\n",
    "\n",
    "    @property\n",
    "    def params(self) -> List[Param]:\n",
    "        return [size_param]\n",
    "\n",
    "\n",
    "red_stage = ColorStage(\"red\")\n",
    "green_stage = ColorStage(\"green\")\n",
    "blue_stage = ColorStage(\"blue\")\n",
    "\n",
    "\n",
    "def evaluate(pipeline: Pipline):\n",
    "    res = 0\n",
    "    i = 0\n",
    "    n = len(pipeline.stages)\n",
    "    while i < n:\n",
    "        stage = pipeline.stages[i]\n",
    "        if stage.name == \"red\" and i < n - 2 and \\\n",
    "                pipeline.stages[i + 1].name == \"green\" and \\\n",
    "                pipeline.stages[i + 2].name == \"blue\":\n",
    "            res += stage.params[0]\n",
    "                        \n",
    "        "
   ],
   "metadata": {
    "collapsed": false
   },
   "id": "3d842bae9783960d"
  }
 ],
 "metadata": {
  "kernelspec": {
   "display_name": "Python 3",
   "language": "python",
   "name": "python3"
  },
  "language_info": {
   "codemirror_mode": {
    "name": "ipython",
    "version": 2
   },
   "file_extension": ".py",
   "mimetype": "text/x-python",
   "name": "python",
   "nbconvert_exporter": "python",
   "pygments_lexer": "ipython2",
   "version": "2.7.6"
  }
 },
 "nbformat": 4,
 "nbformat_minor": 5
}
